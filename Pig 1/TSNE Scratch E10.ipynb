{
 "cells": [
  {
   "cell_type": "code",
   "execution_count": 1,
   "metadata": {},
   "outputs": [
    {
     "name": "stderr",
     "output_type": "stream",
     "text": [
      "Using TensorFlow backend.\n"
     ]
    },
    {
     "data": {
      "application/vnd.jupyter.widget-view+json": {
       "model_id": "c562bc913ad34353b9494a8ce5449398"
      }
     },
     "metadata": {},
     "output_type": "display_data"
    },
    {
     "name": "stdout",
     "output_type": "stream",
     "text": [
      "\n"
     ]
    },
    {
     "data": {
      "application/vnd.jupyter.widget-view+json": {
       "model_id": "bd1d26de2bb1459e81452247d51eed6d"
      }
     },
     "metadata": {},
     "output_type": "display_data"
    },
    {
     "name": "stdout",
     "output_type": "stream",
     "text": [
      "\n"
     ]
    }
   ],
   "source": [
    "import dicom\n",
    "import matplotlib.pyplot as plt\n",
    "\n",
    "%matplotlib inline\n",
    "\n",
    "from pathlib import Path\n",
    "import tensorflow as tf\n",
    "import numpy as np\n",
    "from tqdm import tqdm_notebook\n",
    "import scipy.misc\n",
    "from skimage import io\n",
    "import scipy.stats\n",
    "import seaborn as sns\n",
    "import skimage.color\n",
    "from skimage.filters import threshold_otsu\n",
    "import keras\n",
    "\n",
    "from matplotlib import animation\n",
    "from IPython.display import HTML\n",
    "from PIL import Image\n",
    "import pandas as pd\n",
    "\n",
    "dicom_files = [x for x in Path('../Data/torso/rfmri/MR').iterdir() if x.is_file() and not 'ds_store' in str(x).lower()]\n",
    "dicom_files.sort(key=str)\n",
    "\n",
    "pig0 = dicom.read_file(str(dicom_files[22]), force=True)\n",
    "im = pig0.pixel_array\n",
    "\n",
    "\n",
    "all_data = np.zeros((120, 47, im.shape[0], im.shape[1]))\n",
    "\n",
    "for f in tqdm_notebook(dicom_files):\n",
    "    pigfile = dicom.read_file(str(f), force=True)\n",
    "    \n",
    "    try:\n",
    "    \n",
    "        time = (pigfile.InstanceNumber - 1) // 47\n",
    "        depth = pigfile.InStackPositionNumber - 1\n",
    "\n",
    "\n",
    "        if np.count_nonzero(all_data[time, depth]) > 0:\n",
    "            print('repeated stack position @ time %d , depth %d' % (time, depth))\n",
    "\n",
    "        all_data[time, depth, ...] = pigfile.pixel_array\n",
    "    except:\n",
    "        print(f)\n",
    "        \n",
    "# use annotation to select pixels from volume\n",
    "binary_mask = io.imread('../Data/torso/t0_bin_segment_v1.tif')\n",
    "indices = np.nonzero(binary_mask)\n",
    "df_index = pd.MultiIndex.from_tuples(list(zip(*indices)), names=['depth', 'row', 'col'])\n",
    "series_df = pd.Series(index=df_index, dtype=object)\n",
    "\n",
    "for i, triple in tqdm_notebook(enumerate(zip(*indices)), total=len(indices[0])):\n",
    "    d, r, c = triple\n",
    "    trace = all_data[:, d, r, c]\n",
    "    series_df.loc[triple] = trace\n",
    "    \n",
    "data_block = np.vstack(series_df.values)[..., np.newaxis]\n",
    "shuffled_data = np.copy(data_block)\n",
    "np.random.shuffle(shuffled_data)\n",
    "validation_set = shuffled_data[:1000]"
   ]
  },
  {
   "cell_type": "code",
   "execution_count": 3,
   "metadata": {},
   "outputs": [
    {
     "name": "stdout",
     "output_type": "stream",
     "text": [
      " 992/1000 [============================>.] - ETA: 0s"
     ]
    },
    {
     "data": {
      "text/plain": [
       "5274.88469921875"
      ]
     },
     "execution_count": 3,
     "metadata": {},
     "output_type": "execute_result"
    }
   ],
   "source": [
    "from keras.models import load_model\n",
    "m = load_model('e10_model.h5')\n",
    "\n",
    "m.evaluate(validation_set, validation_set)"
   ]
  },
  {
   "cell_type": "code",
   "execution_count": 4,
   "metadata": {},
   "outputs": [
    {
     "data": {
      "text/plain": [
       "{'name': 'max_pooling1d_3',\n",
       " 'padding': 'valid',\n",
       " 'pool_size': (2,),\n",
       " 'strides': (2,),\n",
       " 'trainable': True}"
      ]
     },
     "execution_count": 4,
     "metadata": {},
     "output_type": "execute_result"
    }
   ],
   "source": [
    "layer_14 = m.layers[14]\n",
    "layer_14.get_config()"
   ]
  },
  {
   "cell_type": "code",
   "execution_count": 5,
   "metadata": {},
   "outputs": [
    {
     "name": "stdout",
     "output_type": "stream",
     "text": [
      "(13550, 15, 128)\n",
      "(13550, 1920)\n"
     ]
    }
   ],
   "source": [
    "from sklearn import manifold\n",
    "from time import time\n",
    "\n",
    "embedding_model = keras.models.Model(inputs=m.input,\n",
    "                                 outputs=m.layers[14].output)\n",
    "embeddings = embedding_model.predict(data_block)\n",
    "squished_embeddings = np.reshape(embeddings, (embeddings.shape[0], -1))\n",
    "\n",
    "print(embeddings.shape)\n",
    "print(squished_embeddings.shape)"
   ]
  },
  {
   "cell_type": "code",
   "execution_count": 7,
   "metadata": {},
   "outputs": [
    {
     "data": {
      "image/png": "[encoded data removed]",
      "text/plain": [
       "<matplotlib.figure.Figure at 0x11abd9f98>"
      ]
     },
     "metadata": {},
     "output_type": "display_data"
    }
   ],
   "source": [
    "tsne_100 = manifold.TSNE(n_components=2, init='random', random_state=0, n_iter=5000, perplexity=100)\n",
    "tsne_100_result = tsne_100.fit_transform(squished_embeddings)\n",
    "plt.scatter(tsne_100_result[:, 0], tsne_100_result[:, 1])\n",
    "plt.savefig('../Results/tsne_e10/tsne_100_pig_1_full_dataset.png')\n",
    "np.save('../Data/numpy-data/e10_tsne_100_full_dataset.npy', tsne_100_result) \n"
   ]
  }
 ],
 "metadata": {
  "kernelspec": {
   "display_name": "Python 3",
   "language": "python",
   "name": "python3"
  },
  "language_info": {
   "codemirror_mode": {
    "name": "ipython",
    "version": 3
   },
   "file_extension": ".py",
   "mimetype": "text/x-python",
   "name": "python",
   "nbconvert_exporter": "python",
   "pygments_lexer": "ipython3",
   "version": "3.6.2"
  }
 },
 "nbformat": 4,
 "nbformat_minor": 2
}
