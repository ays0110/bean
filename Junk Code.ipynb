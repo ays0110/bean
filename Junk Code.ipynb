{
 "cells": [
  {
   "cell_type": "code",
   "execution_count": null,
   "metadata": {
    "collapsed": true
   },
   "outputs": [],
   "source": [
    "# model = keras.models.Sequential()\n",
    "\n",
    "# input_array = Input(shape=(120,1))\n",
    "\n",
    "# first_conv_layer = Conv1D(32, 21, activation='relu', padding='causal')(input_array)\n",
    "# first_norm_layer = BatchNormalization()(first_conv_layer)\n",
    "# first_pool_layer = MaxPooling1D()(first_norm_layer)\n",
    "# second_conv_layer = Conv1D(64, 9, activation='relu', padding='causal')(first_pool_layer)\n",
    "# second_norm_layer = BatchNormalization()(second_conv_layer)\n",
    "# second_pool_layer = MaxPooling1D()(second_norm_layer)\n",
    "# third_conv_layer = Conv1D(128, 9, activation='relu', padding='causal')(second_pool_layer)\n",
    "# third_norm_layer = BatchNormalization()(third_conv_layer)\n",
    "# third_pool_layer = MaxPooling1D()(third_norm_layer)\n",
    "# fourth_conv_layer = Conv1D(256, 9, activation='relu', padding='causal')(third_pool_layer)\n",
    "# fourth_norm_layer = BatchNormalization()(fourth_conv_layer)\n",
    "# fourth_pool_layer = MaxPooling1D()(fourth_norm_layer)\n",
    "\n",
    "# encoded_image = Dense(120)(fourth_pool_layer)\n",
    "# encoded_image_norm = BatchNormalization()(encoded_image)\n",
    "\n",
    "# first_deconv_layer = Conv1D(128, 9, activation='relu', padding='causal')(encoded_image_norm)\n",
    "# first_norm2_layer = BatchNormalization()(first_deconv_layer)\n",
    "# first_upsample_layer = UpSampling1D()(first_norm2_layer)\n",
    "# second_deconv_layer = Conv1D(64, 9, activation='relu', padding='causal')(first_upsample_layer)\n",
    "# second_norm2_layer = BatchNormalization()(second_deconv_layer)\n",
    "# second_upsample_layer = UpSampling1D()(second_norm2_layer)\n",
    "# third_deconv_layer = Conv1D(32, 9, activation='relu', padding='causal')(second_upsample_layer)\n",
    "# third_norm2_layer = BatchNormalization()(third_deconv_layer)\n",
    "# third_upsample_layer = UpSampling1D()(third_norm2_layer)\n",
    "\n",
    "# fully_connected_layer = Conv1D(1, 1, activation='linear', padding='causal')(third_upsample_layer)\n",
    "\n",
    "# decoded_image = fully_connected_layer\n",
    "# autoencoder = Model(input_array, decoded_image)\n",
    "\n",
    "# opt = optimizers.RMSprop(lr=0.01)\n",
    "# autoencoder.compile(optimizer=opt, loss='mse')"
   ]
  }
 ],
 "metadata": {
  "kernelspec": {
   "display_name": "Python 3",
   "language": "python",
   "name": "python3"
  },
  "language_info": {
   "codemirror_mode": {
    "name": "ipython",
    "version": 3
   },
   "file_extension": ".py",
   "mimetype": "text/x-python",
   "name": "python",
   "nbconvert_exporter": "python",
   "pygments_lexer": "ipython3",
   "version": "3.6.1"
  }
 },
 "nbformat": 4,
 "nbformat_minor": 2
}
