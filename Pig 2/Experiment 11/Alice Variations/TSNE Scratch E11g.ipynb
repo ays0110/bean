{
 "cells": [
  {
   "cell_type": "code",
   "execution_count": 1,
   "metadata": {},
   "outputs": [
    {
     "name": "stderr",
     "output_type": "stream",
     "text": [
      "Using TensorFlow backend.\n"
     ]
    },
    {
     "data": {
      "application/vnd.jupyter.widget-view+json": {
       "model_id": "cec926bd588e45f98d374000444ee162"
      }
     },
     "metadata": {},
     "output_type": "display_data"
    },
    {
     "name": "stdout",
     "output_type": "stream",
     "text": [
      "\n"
     ]
    },
    {
     "data": {
      "application/vnd.jupyter.widget-view+json": {
       "model_id": "96b21cebcd2c4ff88158a5ce7e2253c3"
      }
     },
     "metadata": {},
     "output_type": "display_data"
    },
    {
     "name": "stdout",
     "output_type": "stream",
     "text": [
      "\n"
     ]
    }
   ],
   "source": [
    "import dicom\n",
    "import matplotlib.pyplot as plt\n",
    "%matplotlib inline\n",
    "from pathlib import Path\n",
    "import tensorflow as tf\n",
    "import numpy as np\n",
    "from tqdm import tqdm_notebook\n",
    "import scipy.misc\n",
    "from skimage import io\n",
    "import scipy.stats\n",
    "import seaborn as sns\n",
    "import skimage.color\n",
    "from skimage.filters import threshold_otsu\n",
    "import keras\n",
    "\n",
    "from matplotlib import animation\n",
    "from IPython.display import HTML\n",
    "from PIL import Image\n",
    "import pandas as pd\n",
    "import nibabel as nib\n",
    "from nibabel.testing import data_path\n",
    "\n",
    "realigned_atlas = nib.load('../../Data/big_atlas/coregistered_pig_2_atlas.nii').get_data()\n",
    "original_atlas = nib.load('../../Data/big_atlas/atlas.nii').get_data()\n",
    "anatomical = nib.load('../../Data/pig_2/coregistered_anatomy.nii').get_data()\n",
    "mean_fmri = nib.load('../../Data/pig_2/rfmri nii/meanus822-0016-00001-000001-01.nii').get_data()  \n",
    "\n",
    "# let's try loading the entire thing to ram\n",
    "# the big tensor will have dimension [time, height, width, depth]\n",
    "\n",
    "im = mean_fmri\n",
    "all_data = np.zeros((300, im.shape[0], im.shape[1], im.shape[2]))\n",
    "masked_data = np.ma.zeros((300, im.shape[0], im.shape[1], im.shape[2]))\n",
    "\n",
    "dicom_files = [x for x in Path('../../Data/pig_2/rfmri files/').iterdir() if x.is_file() and not 'ds_store' in str(x).lower()]\n",
    "dicom_files.sort(key=str)\n",
    "time_index = 0\n",
    "\n",
    "brain_mask = np.ma.masked_where(np.isin(realigned_atlas, [0]), realigned_atlas)\n",
    "\n",
    "posterior_cingulate_cortex = [131,231,223,123]\n",
    "posterior_cingulate_cortex_indices = []\n",
    "posterior_cingulate_cortex_mask = np.ma.masked_where(np.isin(realigned_atlas, posterior_cingulate_cortex, invert=True), realigned_atlas)\n",
    "\n",
    "prefrontal_cortex = [109,110,209,210]\n",
    "prefrontal_cortex_indices = []\n",
    "prefrontal_cortex_mask = np.ma.masked_where(np.isin(realigned_atlas, prefrontal_cortex, invert=True), realigned_atlas)\n",
    "\n",
    "auditory_cortex = [141,241]\n",
    "auditory_cortex_indices = []\n",
    "auditory_cortex_mask = np.ma.masked_where(np.isin(realigned_atlas, auditory_cortex, invert=True), realigned_atlas)\n",
    "\n",
    "temporal_gyri = [120,121,122,220,221,222]\n",
    "temporal_gyri_indices = []\n",
    "temporal_gyri_mask = np.ma.masked_where(np.isin(realigned_atlas, temporal_gyri, invert=True), realigned_atlas)\n",
    "\n",
    "for f in tqdm_notebook(dicom_files):\n",
    "    time_file = nib.load(str(f)).get_data()\n",
    "    fmri_masked_roi = np.ma.masked_where(np.ma.getmask(brain_mask), time_file) \n",
    "    try:\n",
    "        masked_data[time_index, ...] = fmri_masked_roi\n",
    "        all_data[time_index, ...] = time_file\n",
    "        time_index += 1\n",
    "    except:\n",
    "        print(f)\n",
    "        \n",
    "assert all_data.shape == (300, 128, 128, 20)\n",
    "assert masked_data.shape == (300, 128, 128, 20)# basic sanity check\n",
    "\n",
    "indices = masked_data[1,:,:,:].nonzero()\n",
    "\n",
    "df_index = pd.MultiIndex.from_tuples(list(zip(*indices)), names=['row', 'col', 'depth'])\n",
    "series_df = pd.Series(index=df_index, dtype=object)\n",
    "\n",
    "for i, triple in tqdm_notebook(enumerate(zip(*indices)), total=len(indices[0])):\n",
    "    x, y, z = triple\n",
    "    trace = all_data[:, x, y, z]\n",
    "    series_df.loc[triple] = trace\n",
    "    if isinstance(posterior_cingulate_cortex_mask[x,y,z],np.uint8):\n",
    "        posterior_cingulate_cortex_indices.extend([i])\n",
    "    if isinstance(auditory_cortex_mask[x,y,z],np.uint8):\n",
    "        auditory_cortex_indices.extend([i])\n",
    "    if isinstance(prefrontal_cortex_mask[x,y,z],np.uint8):\n",
    "        prefrontal_cortex_indices.extend([i])\n",
    "    if isinstance(temporal_gyri_mask[x,y,z],np.uint8):\n",
    "        temporal_gyri_indices.extend([i])\n",
    "\n",
    "data_block = np.vstack(series_df.values)[..., np.newaxis]\n"
   ]
  },
  {
   "cell_type": "code",
   "execution_count": 4,
   "metadata": {},
   "outputs": [
    {
     "name": "stdout",
     "output_type": "stream",
     "text": [
      "(7155, 160)\n"
     ]
    }
   ],
   "source": [
    "squished_embeddings = np.load('../../Data/numpy-data/e11g-embeddings-squished.npy')\n",
    "print(squished_embeddings.shape)"
   ]
  },
  {
   "cell_type": "code",
   "execution_count": 5,
   "metadata": {},
   "outputs": [
    {
     "name": "stdout",
     "output_type": "stream",
     "text": [
      "(128, 128, 20)\n"
     ]
    }
   ],
   "source": [
    "print(anatomical.shape)"
   ]
  },
  {
   "cell_type": "code",
   "execution_count": 10,
   "metadata": {},
   "outputs": [
    {
     "name": "stdout",
     "output_type": "stream",
     "text": [
      "[t-SNE] Computing 301 nearest neighbors...\n",
      "[t-SNE] Indexed 7155 samples in 0.056s...\n",
      "[t-SNE] Computed neighbors for 7155 samples in 5.405s...\n",
      "[t-SNE] Computed conditional probabilities for sample 1000 / 7155\n",
      "[t-SNE] Computed conditional probabilities for sample 2000 / 7155\n",
      "[t-SNE] Computed conditional probabilities for sample 3000 / 7155\n",
      "[t-SNE] Computed conditional probabilities for sample 4000 / 7155\n",
      "[t-SNE] Computed conditional probabilities for sample 5000 / 7155\n",
      "[t-SNE] Computed conditional probabilities for sample 6000 / 7155\n",
      "[t-SNE] Computed conditional probabilities for sample 7000 / 7155\n",
      "[t-SNE] Computed conditional probabilities for sample 7155 / 7155\n",
      "[t-SNE] Mean sigma: 0.326585\n",
      "[t-SNE] KL divergence after 250 iterations with early exaggeration: 54.802937\n",
      "[t-SNE] Error after 1000 iterations: 0.536186\n"
     ]
    },
    {
     "data": {
      "image/png": "[encoded data removed]",
      "text/plain": [
       "<matplotlib.figure.Figure at 0x111a650b8>"
      ]
     },
     "metadata": {},
     "output_type": "display_data"
    }
   ],
   "source": [
    "from sklearn import manifold\n",
    "from time import time\n",
    "\n",
    "tsne = manifold.TSNE(n_components=2, init='random', random_state=0, n_iter=1000, perplexity=100, verbose=1)\n",
    "tsne_result = tsne.fit_transform(squished_embeddings)\n",
    "plt.scatter(tsne_result[:, 0], tsne_result[:, 1])\n",
    "np.save('../../Data/numpy-data/e11g_tsne_50_pig_2_full_dataset.npy', tsne_result) \n"
   ]
  },
  {
   "cell_type": "code",
   "execution_count": 9,
   "metadata": {},
   "outputs": [
    {
     "data": {
      "image/png": "[encoded data removed]",
      "text/plain": [
       "<matplotlib.figure.Figure at 0x111a59358>"
      ]
     },
     "metadata": {},
     "output_type": "display_data"
    }
   ],
   "source": [
    "for i in range(len(prefrontal_cortex_indices)):\n",
    "    plt.scatter(tsne_result[prefrontal_cortex_indices[i],0], tsne_result[prefrontal_cortex_indices[i],1], c='green', s=2)\n",
    "for i in range(len(posterior_cingulate_cortex_indices)):\n",
    "    plt.scatter(tsne_result[posterior_cingulate_cortex_indices[i],0], tsne_result[posterior_cingulate_cortex_indices[i],1], c='red', s=2)\n",
    "for i in range(len(auditory_cortex_indices)):\n",
    "    plt.scatter(tsne_result[auditory_cortex_indices[i],0], tsne_result[auditory_cortex_indices[i],1], c='blue', s=2)\n",
    "for i in range(len(temporal_gyri_indices)):\n",
    "    plt.scatter(tsne_result[temporal_gyri_indices[i],0], tsne_result[temporal_gyri_indices[i],1], c='black', s=2)\n",
    "\n",
    "\n",
    "plt.savefig('../../Results/tsne_e11/g_tsne_50_pig_2_full_dataset.png')\n",
    "\n",
    " "
   ]
  },
  {
   "cell_type": "code",
   "execution_count": 6,
   "metadata": {},
   "outputs": [
    {
     "name": "stdout",
     "output_type": "stream",
     "text": [
      "279\n",
      "181\n",
      "278\n",
      "485\n"
     ]
    }
   ],
   "source": [
    "print(len(temporal_gyri_indices))\n",
    "print(len(posterior_cingulate_cortex_indices))\n",
    "print(len(auditory_cortex_indices))\n",
    "print(len(prefrontal_cortex_indices))"
   ]
  },
  {
   "cell_type": "code",
   "execution_count": 108,
   "metadata": {},
   "outputs": [
    {
     "data": {
      "text/plain": [
       "<matplotlib.collections.PathCollection at 0x19756c6d8>"
      ]
     },
     "execution_count": 108,
     "metadata": {},
     "output_type": "execute_result"
    },
    {
     "data": {
      "image/png": "[encoded data removed]",
      "text/plain": [
       "<matplotlib.figure.Figure at 0x19ab83320>"
      ]
     },
     "metadata": {},
     "output_type": "display_data"
    }
   ],
   "source": [
    "# color (kmeans) and label\n",
    "from sklearn.cluster import KMeans, DBSCAN\n",
    "\n",
    "db = DBSCAN(eps=10,min_samples=100)\n",
    "db.fit_predict(tsne_result)\n",
    "labels = db.labels_\n",
    "rgbs = [np.array(c) for c in sns.color_palette(\"husl\", len(np.unique(labels)))]\n",
    "colors = [rgbs[i] for i in labels]\n",
    "\n",
    "plt.scatter(tsne_result[:, 0], tsne_result[:, 1], c=colors)\n",
    "\n"
   ]
  },
  {
   "cell_type": "code",
   "execution_count": 109,
   "metadata": {},
   "outputs": [
    {
     "name": "stdout",
     "output_type": "stream",
     "text": [
      "[0 0 0 ..., 0 1 1]\n"
     ]
    },
    {
     "data": {
      "image/png": "[encoded data removed]",
      "text/plain": [
       "<matplotlib.figure.Figure at 0x19ab96b00>"
      ]
     },
     "metadata": {},
     "output_type": "display_data"
    }
   ],
   "source": [
    "\n",
    "small_island = tsne_result[labels == 1]\n",
    "plt.scatter(small_island[:,0], small_island[:,1])"
   ]
  },
  {
   "cell_type": "code",
   "execution_count": 110,
   "metadata": {
    "collapsed": true
   },
   "outputs": [],
   "source": [
    "slice_i = 0\n",
    "plt.figure(figsize=(20,10))\n",
    "\n",
    "small_island_indices = series_df.index[:][labels == 1]\n",
    "second_island_indices = series_df.index[:][labels == 2]\n",
    "\n",
    "for slice_i in range(realigned_atlas.shape[2]):\n",
    "#     plt.subplot(2, 2, 1)\n",
    "#     plt.imshow(all_data[0, :, :, slice_i], cmap='viridis')\n",
    "\n",
    "#     plt.subplot(2, 2, 2)\n",
    "#     plt.imshow(anatomical[:,:,slice_i], cmap='viridis')\n",
    "#     for p in small_island_indices:\n",
    "#         if p[2] == slice_i:\n",
    "#             pass\n",
    "#             plt.scatter(x=p[1], y=p[0], c='r', s=3)\n",
    "    \n",
    "#     plt.subplot(2, 2, 3)\n",
    "    plt.imshow(all_data[120, :,:,slice_i], cmap='viridis')\n",
    "    for p in small_island_indices:\n",
    "        if p[2] == slice_i:\n",
    "            pass\n",
    "            plt.scatter(x=p[1], y=p[0], c='r', s=3)\n",
    "            \n",
    "    plt.savefig('../../Results/Pig 2 TSNE/Experiment 11e 2/slice_' + str(slice_i) + '.png')\n",
    "    plt.close('all')\n",
    "    \n",
    "    \n",
    "\n"
   ]
  },
  {
   "cell_type": "code",
   "execution_count": 114,
   "metadata": {},
   "outputs": [
    {
     "name": "stdout",
     "output_type": "stream",
     "text": [
      "3: Hippocampus_2\n",
      "1: Superior_colliculus_2\n",
      "1: Spinal_trigeminal_tract_2\n",
      "3: Lateral_ventricle_2\n",
      "51: Primary_somatosensory_cortex_1\n",
      "2: Primary_motor_cortex_1\n",
      "5: Somatosensory_association_cortex_1\n",
      "14: Dorsolateral_prefrontal_cortex_1\n",
      "9: Insular_cortex_1\n",
      "1: Secondary_visual_cortex_(V2)_1\n",
      "1: Associative_visual_cortex_(V3)_1\n",
      "1: Inferior_temporal_gyrus_1\n",
      "2: Middle_temporal_gyrus_1\n",
      "1: Perirhinal_cortex_1\n",
      "4: Parahippocampal_cortex_1\n",
      "9: Auditory_cortex_1\n",
      "6: Prepiriform_area_1\n",
      "27: Olfactory_bulb_1\n",
      "1: Inferior_cerebellar_peduncle_2\n",
      "1: Medial_cerebellar_peduncle_1\n",
      "26: Cerebellar_lobule_VIIB\n",
      "9: Crus2_of_the_ansiform_lobule\n",
      "69: Primary_somatosensory_cortex_2\n",
      "3: Primary_motor_cortex_2\n",
      "2: Somatosensory_association_cortex_2\n",
      "10: Dorsolateral_prefrontal_cortex_2\n",
      "3: Insular_cortex_2\n",
      "9: Secondary_visual_cortex_(V2)_2\n",
      "1: Associative_visual_cortex_(V3)_2\n",
      "1: Inferior_temporal_gyrus_2\n",
      "1: Middle_temporal_gyrus_2\n",
      "1: Superior_temporal_gyrus_2\n",
      "2: Perirhinal_cortex_2\n",
      "8: Parahippocampal_cortex_2\n",
      "9: Auditory_cortex_2\n",
      "4: Prepiriform_area_2\n",
      "22: Olfactory_bulb_2\n"
     ]
    }
   ],
   "source": [
    "roi_dict = {'Posterior_commissure': 1,\n",
    "        'Anterior_commisure':   2,\n",
    "        'Optic_chiasm':   3,\n",
    "        'Corpus_callosum':   4,\n",
    "        'Anteroventral_thalamic_nucleus_1':   5,\n",
    "        'Anteroventral_thalamic_nucleus_2':   6,\n",
    "        'Central_thalamic_nucleus_1':   7,\n",
    "        'Central_thalamic_nucleus_2':   8,\n",
    "        'Mediodorsal_thalamic_nucleus_1':   9,\n",
    "        'Mediodorsal_thalamic_nucleus_2':  10,\n",
    "        'Laterodorsal_thalamic_nucleus_1':  11,\n",
    "        'Laterodorsal_thalamic_nucleus_2':  12,\n",
    "        'Geniculate_nuclei_1':  13,\n",
    "        'Geniculate_nuclei_2':  14,\n",
    "        'Pulvinar_nuclei_1':  15,\n",
    "        'Pulvinar_nuclei_2':  16,\n",
    "        'Reticular_thalamic_nucleus_1':  17,\n",
    "        'Reticular_thalamic_nucleus_2':  18,\n",
    "        'Ventral_anterior_thalamic_nucleus_1':  19,\n",
    "        'Ventral_anterior_thalamic_nucleus_2':  20,\n",
    "        'Ventral_posterior_thalamic_nucleus_1':  21,\n",
    "        'Ventral_posterior_thalamic_nucleus_2':  22,\n",
    "        'Accumbens_nucleus_1':  23,\n",
    "        'Accumbens_nucleus_2':  24,\n",
    "        'Caudate_nucleus_1':  25,\n",
    "        'Caudate_nucleus_2':  26,\n",
    "        'Claustrum_1':  27,\n",
    "        'Claustrum_2':  28,\n",
    "        'Globus_pallidus_1':  29,\n",
    "        'Globus_pallidus_2':  30,\n",
    "        'Putamen_1':  31,\n",
    "        'Putamen_2':  32,\n",
    "        'Substantia_nigra_1':  33,\n",
    "        'Substantia_nigra_2':  34,\n",
    "        'Fornix':  35,\n",
    "        'Hippocampus_1':  36,\n",
    "        'Hippocampus_2':  37,\n",
    "        'Subiculum_1':  38,\n",
    "        'Subiculum_2':  39,\n",
    "        'Amygdala_1':  40,\n",
    "        'Amygdala_2':  41,\n",
    "        'Subthalamic_nucleus_1':  42,\n",
    "        'Subthalamic_nucleus_2':  43,\n",
    "        'Zona_incerta_1':  44,\n",
    "        'Zona_incerta_2':  45,\n",
    "        'Habenular_nuclei_1':  46,\n",
    "        'Habenular_nuclei_2':  47,\n",
    "        'Pineal_gland':  48,\n",
    "        'Anteriror_hypothalamic_area_1':  49,\n",
    "        'Anteriror_hypothalamic_area_2':  50,\n",
    "        'Mamillary_body':  51,\n",
    "        'Medial_hypothalamic_area_1':  52,\n",
    "        'Medial_hypothalamic_area_2':  53,\n",
    "        'Inferior_colliculus_1':  54,\n",
    "        'Inferior_colliculus_2':  55,\n",
    "        'Superior_colliculus_1':  56,\n",
    "        'Superior_colliculus_2':  57,\n",
    "        'Periaqueductal_gray':  58,\n",
    "        'Red_nucleus_1':  59,\n",
    "        'Red_nucleus_2':  60,\n",
    "        'Nucleus_of_the_optic_tract_1':  61,\n",
    "        'Nucleus_of_the_optic_tract_2':  62,\n",
    "        'Pretectal_area_1':  63,\n",
    "        'Pretectal_area_2':  64,\n",
    "        'Interpeduncular_nucleus':  65,\n",
    "        'Pontine_nuclei_1': 66,\n",
    "        'Pontine_nuclei_2':  67,\n",
    "        'Reticulotegmental_nucleus_1':  68,\n",
    "        'Reticulotegmental_nucleus_2':  69,\n",
    "        'Cuneate_nucleus_1':  70,\n",
    "        'Cuneate_nucleus_2':  71,\n",
    "        'Nucleus_of_the_solitary_tract_1':  72,\n",
    "        'Nucleus_of_the_solitary_tract_2':  73,\n",
    "        'Olivary_nuclei_1':  74,\n",
    "        'Olivary_nuclei_2':  75,\n",
    "        'Superior_olivary_complex_1':  76,\n",
    "        'Superior_olivary_complex_2':  77,\n",
    "        'Dorsal_motor_nucleus_of_vagus_1':  78,\n",
    "        'Dorsal_motor_nucleus_of_vagus_2':  79,\n",
    "        'Motor_trigeminal_nucleus_1':  80,\n",
    "        'Motor_trigeminal_nucleus_2':  81,\n",
    "        'Spinal_trigeminal_nucleus_1':  82,\n",
    "        'Spinal_trigeminal_nucleus_2':  83,\n",
    "        'Abducens_nucleus_1':  84,\n",
    "        'Abducens_nucleus_2':  85,\n",
    "        'Facial_nucleus_1':  86,\n",
    "        'Facial_nucleus_2':  87,\n",
    "        'Hypoglossal_nucleus_1':  88,\n",
    "        'Hypoglossal_nucleus_2':  89,\n",
    "        'Spinal_trigeminal_tract_1':  90,\n",
    "        'Spinal_trigeminal_tract_2':  91,\n",
    "        'Vestibular_nucleus_1':  92,\n",
    "        'Vestibular_nucleus_2':  93,\n",
    "        'Lateral_ventricle_1':  94,\n",
    "        'Lateral_ventricle_2':  95,\n",
    "        'Third_ventricle':  96,\n",
    "        'Fourth_ventricle':  97,\n",
    "        'Cerebral_aqueduct_(Sylvius)':  98,\n",
    "        'Primary_somatosensory_cortex_1': 101,\n",
    "        'Primary_somatosensory_cortex_2': 201,\n",
    "        'Primary_motor_cortex_1': 104,\n",
    "        'Primary_motor_cortex_2': 204,\n",
    "        'Somatosensory_association_cortex_1': 105,\n",
    "        'Somatosensory_association_cortex_2': 205,\n",
    "        'Premotar_cortex_1': 106,\n",
    "        'Premotar_cortex_2': 206,\n",
    "        'Dorsolateral_prefrontal_cortex_1': 109,\n",
    "        'Dorsolateral_prefrontal_cortex_2': 209,\n",
    "        'Anterior_prefrontal_cortex_1': 110,\n",
    "        'Orbitofrontal_cortex_1': 111,\n",
    "        'Insular_cortex_1': 113,\n",
    "        'Primary_visual_cortex_(V1)_1': 117,\n",
    "        'Secondary_visual_cortex_(V2)_1': 118,\n",
    "        'Associative_visual_cortex_(V3)_1': 119,\n",
    "        'Inferior_temporal_gyrus_1': 120,\n",
    "        'Middle_temporal_gyrus_1': 121,\n",
    "        'Superior_temporal_gyrus_1': 122,\n",
    "        'Inferior_temporal_gyrus_2': 220,\n",
    "        'Middle_temporal_gyrus_2': 221,\n",
    "        'Superior_temporal_gyrus_2': 222,\n",
    "        'Ventral_posterior_cingulate_cortex_1': 123,\n",
    "        'Ventral_anterior_cingulate_cortex_2': 124,\n",
    "        'Ventral_posterior_cingulate_cortex_1': 223,\n",
    "        'Ventral_anterior_cingulate_cortex_2': 224,\n",
    "        'Ectosplenial_area_1': 126,\n",
    "        'Piriform_cortex_1': 127,\n",
    "        'Retrosplenial_cingular_cortex_1': 129,\n",
    "        'Dorsal_posterior_cingular_cortex_1': 131,\n",
    "        'Dorsal_anterior_cingulate_cortex_1': 132,\n",
    "        'Dorsal_posterior_cingular_cortex_2': 231,\n",
    "        'Dorsal_anterior_cingulate_cortex_2': 232,\n",
    "        'Anterior_entorhinal_cortex_1': 134,\n",
    "        'Perirhinal_cortex_1': 135,\n",
    "        'Parahippocampal_cortex_1': 136,\n",
    "        'Fusiform_gyrus_1': 137,\n",
    "        'Auditory_cortex_1': 141,\n",
    "        'Auditory_cortex_2': 241,\n",
    "        'Prepiriform_area_1': 149,\n",
    "        'Olfactory_bulb_1': 151,\n",
    "        'Lateral_cerebellar_nucleus_1': 160,\n",
    "        'Lateral_cerebellar_nucleus_2': 161,\n",
    "        'Medial_cerebellar_nucleus_1': 162,\n",
    "        'Medial_cerebellar_nucleus_2': 163,\n",
    "        'Interposed_cerebellar_nucleus_1': 164,\n",
    "        'Interposed_cerebellar_nucleus_2': 165,\n",
    "        'Inferior_cerebellar_peduncle_1': 166,\n",
    "        'Inferior_cerebellar_peduncle_2': 167,\n",
    "        'Medial_cerebellar_peduncle_1': 168,\n",
    "        'Medial_cerebellar_peduncle_2': 169,\n",
    "        'Superior_cerebellar_peduncle_1': 170,\n",
    "        'Superior_cerebellar_peduncle_2': 171,\n",
    "        'Cerebellar_lobule_I,II': 181,\n",
    "        'Cerebellar_lobule_III': 183,\n",
    "        'Cerebellar_lobule_IV': 184,\n",
    "        'Cerebellar_lobule_V': 185,\n",
    "        'Cerebellar_lobule_VI': 186,\n",
    "        'Cerebellar_lobule_VIIB': 187,\n",
    "        'Cerbellar_lobule_VIIIA': 188,\n",
    "        'Cerebellar_lobule_IX': 189,\n",
    "        'Cerebellar_lobule_X': 190,\n",
    "        'Crus1_of_the_ansiform_lobule': 191,\n",
    "        'Crus2_of_the_ansiform_lobule': 192,\n",
    "        'Cerebellar_lobule_VIIIB': 193,\n",
    "        'Anterior_prefrontal_cortex_2': 210,\n",
    "        'Orbitofrontal_cortex_2': 211,\n",
    "        'Insular_cortex_2': 213,\n",
    "        'Primary_visual_cortex_(V1)_2': 217,\n",
    "        'Secondary_visual_cortex_(V2)_2': 218,\n",
    "        'Associative_visual_cortex_(V3)_2': 219,\n",
    "        'Ectosplenial_area_2': 226,\n",
    "        'Piriform_cortex_2': 227,\n",
    "        'Retrosplenial_cingular_cortex_2': 229,\n",
    "        'Anterior_entorhinal_cortex_2': 234,\n",
    "        'Perirhinal_cortex_2': 235,\n",
    "        'Parahippocampal_cortex_2': 236,\n",
    "        'Fusiform_gyrus_2': 237,\n",
    "        'Prepiriform_area_2': 249,\n",
    "        'Olfactory_bulb_2': 251}\n",
    "\n",
    "ivd = {v: k for k, v in roi_dict.items()}\n",
    "\n",
    "roi_labels = []\n",
    "\n",
    "for i in small_island_indices:\n",
    "    label = realigned_atlas[i[0], i[1], i[2]]\n",
    "    roi_labels.extend([label])\n",
    "    \n",
    "unique_labels, counts = np.unique(roi_labels, return_counts=True)\n",
    "\n",
    "for i in range(unique_labels.size):\n",
    "    print(str(counts[i]) + ': ' + ivd[unique_labels[i]])\n",
    "    \n",
    "    \n"
   ]
  },
  {
   "cell_type": "code",
   "execution_count": 113,
   "metadata": {},
   "outputs": [
    {
     "name": "stdout",
     "output_type": "stream",
     "text": [
      "3: Geniculate_nuclei_2\n",
      "2: Fornix\n",
      "2: Hippocampus_1\n",
      "1: Hippocampus_2\n",
      "1: Pineal_gland\n",
      "1: Pontine_nuclei_1\n",
      "1: Pontine_nuclei_2\n",
      "1: Superior_olivary_complex_1\n",
      "1: Spinal_trigeminal_nucleus_2\n",
      "6: Lateral_ventricle_1\n",
      "7: Lateral_ventricle_2\n",
      "8: Third_ventricle\n",
      "35: Primary_somatosensory_cortex_1\n",
      "20: Primary_motor_cortex_1\n",
      "16: Somatosensory_association_cortex_1\n",
      "15: Premotar_cortex_1\n",
      "28: Dorsolateral_prefrontal_cortex_1\n",
      "28: Anterior_prefrontal_cortex_1\n",
      "9: Insular_cortex_1\n",
      "16: Primary_visual_cortex_(V1)_1\n",
      "15: Secondary_visual_cortex_(V2)_1\n",
      "3: Dorsal_anterior_cingulate_cortex_1\n",
      "1: Anterior_entorhinal_cortex_1\n",
      "6: Perirhinal_cortex_1\n",
      "8: Auditory_cortex_1\n",
      "13: Olfactory_bulb_1\n",
      "4: Crus2_of_the_ansiform_lobule\n",
      "28: Primary_somatosensory_cortex_2\n",
      "12: Primary_motor_cortex_2\n",
      "28: Somatosensory_association_cortex_2\n",
      "16: Premotar_cortex_2\n",
      "12: Dorsolateral_prefrontal_cortex_2\n",
      "18: Anterior_prefrontal_cortex_2\n",
      "13: Insular_cortex_2\n",
      "9: Primary_visual_cortex_(V1)_2\n",
      "8: Secondary_visual_cortex_(V2)_2\n",
      "1: Associative_visual_cortex_(V3)_2\n",
      "9: Inferior_temporal_gyrus_2\n",
      "3: Dorsal_anterior_cingulate_cortex_2\n",
      "5: Anterior_entorhinal_cortex_2\n",
      "3: Perirhinal_cortex_2\n",
      "5: Parahippocampal_cortex_2\n",
      "9: Auditory_cortex_2\n",
      "2: Prepiriform_area_2\n",
      "9: Olfactory_bulb_2\n"
     ]
    }
   ],
   "source": [
    "roi_labels = []\n",
    "\n",
    "for i in second_island_indices:\n",
    "    label = realigned_atlas[i[0], i[1], i[2]]\n",
    "    roi_labels.extend([label])\n",
    "    \n",
    "unique_labels, counts = np.unique(roi_labels, return_counts=True)\n",
    "\n",
    "for i in range(unique_labels.size):\n",
    "    print(str(counts[i]) + ': ' + ivd[unique_labels[i]])\n",
    "    \n"
   ]
  }
 ],
 "metadata": {
  "kernelspec": {
   "display_name": "Python 3",
   "language": "python",
   "name": "python3"
  },
  "language_info": {
   "codemirror_mode": {
    "name": "ipython",
    "version": 3
   },
   "file_extension": ".py",
   "mimetype": "text/x-python",
   "name": "python",
   "nbconvert_exporter": "python",
   "pygments_lexer": "ipython3",
   "version": "3.5.3"
  }
 },
 "nbformat": 4,
 "nbformat_minor": 2
}
