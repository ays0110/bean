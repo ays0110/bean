{
 "cells": [
  {
   "cell_type": "code",
   "execution_count": 1,
   "metadata": {
    "collapsed": true
   },
   "outputs": [],
   "source": [
    "import nibabel as nib\n",
    "from nibabel.testing import data_path\n",
    "import os\n",
    "import numpy as np\n",
    "from pathlib import Path\n",
    "import matplotlib.pyplot as plt\n",
    "\n",
    "%matplotlib inline\n",
    "from matplotlib import animation\n",
    "from IPython.display import HTML\n",
    "import dicom\n",
    "\n",
    "\n",
    "realigned_atlas = nib.load('../Data/big_atlas/coregistered_pig_2_atlas.nii').get_data()\n",
    "original_atlas = nib.load('../Data/big_atlas/atlas.nii').get_data()\n",
    "anatomical = nib.load('../Data/pig_2/coregistered_anatomy.nii').get_data()\n",
    "mean_fmri = nib.load('../Data/pig_2/rfmri nii/meanus822-0016-00001-000001-01.nii').get_data()\n",
    "fmri_volume = nib.load('../Data/pig_2/rfmri nii/aus822-0016-00001-005661-01.nii').get_data()\n"
   ]
  },
  {
   "cell_type": "code",
   "execution_count": 2,
   "metadata": {},
   "outputs": [
    {
     "name": "stdout",
     "output_type": "stream",
     "text": [
      "(128, 128, 20)\n",
      "(128, 128, 20)\n",
      "(128, 128, 20)\n",
      "(560, 535, 480)\n"
     ]
    }
   ],
   "source": [
    "print(realigned_atlas.shape)\n",
    "print(anatomical.shape)\n",
    "print(mean_fmri.shape)\n",
    "print(original_atlas.shape)"
   ]
  },
  {
   "cell_type": "code",
   "execution_count": 3,
   "metadata": {},
   "outputs": [
    {
     "name": "stdout",
     "output_type": "stream",
     "text": [
      "List of all warped ROI labels:\n",
      "[  0   1   2   3   4   5   6   7   8   9  10  11  12  13  14  15  16  17\n",
      "  18  19  20  21  22  23  24  25  26  27  28  29  30  31  32  33  34  35\n",
      "  36  37  38  39  40  41  42  43  44  45  46  47  48  49  50  51  52  53\n",
      "  54  55  56  57  58  59  60  61  62  63  64  65  66  67  68  69  70  71\n",
      "  72  73  74  75  76  77  80  82  83  86  87  90  91  92  93  94  95  96\n",
      "  97  98 101 104 105 106 109 110 111 113 117 118 119 120 121 122 123 124\n",
      " 127 129 131 132 134 135 136 137 141 149 151 161 162 163 164 165 166 167\n",
      " 168 169 170 171 181 183 184 185 186 187 188 189 190 191 192 193 201 204\n",
      " 205 206 209 210 211 213 217 218 219 220 221 222 223 224 226 227 229 231\n",
      " 232 234 235 236 237 241 249 251]\n",
      "List of all valid ROI labels:\n",
      "[  0   1   2   3   4   5   6   7   8   9  10  11  12  13  14  15  16  17\n",
      "  18  19  20  21  22  23  24  25  26  27  28  29  30  31  32  33  34  35\n",
      "  36  37  38  39  40  41  42  43  44  45  46  47  48  49  50  51  52  53\n",
      "  54  55  56  57  58  59  60  61  62  63  64  65  66  67  68  69  70  71\n",
      "  72  73  74  75  76  77  78  79  80  81  82  83  84  85  86  87  88  89\n",
      "  90  91  92  93  94  95  96  97  98 101 104 105 106 109 110 111 113 117\n",
      " 118 119 120 121 122 123 124 126 127 129 131 132 134 135 136 137 141 149\n",
      " 151 161 162 163 164 165 166 167 168 169 170 171 181 183 184 185 186 187\n",
      " 188 189 190 191 192 193 201 204 205 206 209 210 211 213 217 218 219 220\n",
      " 221 222 223 224 226 227 229 231 232 234 235 236 237 241 249 251]\n",
      "Lost ROI Labels:\n",
      "[ 78  79  81  84  85  88  89 126]\n",
      "# Pixels Lost in Dorsal_motor_nucleus_of_vagus (78)\n",
      "167 / 137000000\n",
      "# Pixels Lost in Dorsal_motor_nucleus_of_vagus (79)\n",
      "167 / 137000000\n",
      "# Pixels Lost in Motor_trigeminal_nucleus (81)\n",
      "8390 / 137000000\n",
      "# Pixels Lost in Abducens Nucleus (84)\n",
      "1270 / 137000000\n",
      "# Pixels Lost in Abducens Nucleus (85)\n",
      "1270 / 137000000\n",
      "# Pixels Lost in Hypoglossal_nucleus (88)\n",
      "5550 / 137000000\n",
      "# Pixels Lost in Hypoglossal_nucleus (89)\n",
      "5550 / 137000000\n",
      "# Pixels Lost in Ectosplenial_area (126)\n",
      "13424 / 137000000\n"
     ]
    }
   ],
   "source": [
    "print(\"List of all warped ROI labels:\")\n",
    "print(np.unique(realigned_atlas))\n",
    "print(\"List of all valid ROI labels:\")\n",
    "original_atlas_values = np.unique(original_atlas)\n",
    "print(original_atlas_values)\n",
    "print(\"Lost ROI Labels:\")\n",
    "mask = np.isin(original_atlas_values, realigned_atlas, invert=True)\n",
    "print(original_atlas_values[mask])\n",
    "\n",
    "print(\"# Pixels Lost in Dorsal_motor_nucleus_of_vagus (78)\")\n",
    "print(str(len(np.where( original_atlas == 78 )[1])) + ' / 137000000')\n",
    "\n",
    "print(\"# Pixels Lost in Dorsal_motor_nucleus_of_vagus (79)\")\n",
    "print(str(len(np.where( original_atlas == 79 )[1]))+ ' / 137000000')\n",
    "\n",
    "print(\"# Pixels Lost in Motor_trigeminal_nucleus (81)\")\n",
    "print(str(len(np.where( original_atlas == 81 )[1]))+ ' / 137000000')\n",
    "\n",
    "print(\"# Pixels Lost in Abducens Nucleus (84)\")\n",
    "print(str(len(np.where( original_atlas == 84 )[1]))+ ' / 137000000')\n",
    "\n",
    "print(\"# Pixels Lost in Abducens Nucleus (85)\")\n",
    "print(str(len(np.where( original_atlas == 85 )[1]))+ ' / 137000000')\n",
    "\n",
    "print(\"# Pixels Lost in Hypoglossal_nucleus (88)\")\n",
    "print(str(len(np.where( original_atlas == 88 )[1]))+ ' / 137000000')\n",
    "\n",
    "print(\"# Pixels Lost in Hypoglossal_nucleus (89)\")\n",
    "print(str(len(np.where( original_atlas == 89 )[1]))+ ' / 137000000')\n",
    "\n",
    "print(\"# Pixels Lost in Ectosplenial_area (126)\")\n",
    "print(str(len(np.where( original_atlas == 126 )[1]))+ ' / 137000000')"
   ]
  },
  {
   "cell_type": "code",
   "execution_count": 13,
   "metadata": {},
   "outputs": [
    {
     "name": "stderr",
     "output_type": "stream",
     "text": [
      "/Users/tomato/Desktop/rfmri/env/lib/python3.6/site-packages/matplotlib/colors.py:823: UserWarning: Warning: converting a masked element to nan.\n",
      "  dtype = np.min_scalar_type(value)\n",
      "/Users/tomato/Desktop/rfmri/env/lib/python3.6/site-packages/numpy/ma/core.py:2809: UserWarning: Warning: converting a masked element to nan.\n",
      "  order=order, subok=True, ndmin=ndmin)\n",
      "/Users/tomato/Desktop/rfmri/env/lib/python3.6/site-packages/matplotlib/colors.py:861: RuntimeWarning: invalid value encountered in true_divide\n",
      "  resdat /= (vmax - vmin)\n",
      "/Users/tomato/Desktop/rfmri/env/lib/python3.6/site-packages/matplotlib/colors.py:861: RuntimeWarning: divide by zero encountered in true_divide\n",
      "  resdat /= (vmax - vmin)\n"
     ]
    }
   ],
   "source": [
    "roi_1 = [120,121,122,220,221,222]\n",
    "label = 'Temporal Gyri'\n",
    "\n",
    "#######\n",
    "\n",
    "for slice_i in range(realigned_atlas.shape[2]):\n",
    "    mask_roi_1 = np.ma.masked_where(np.isin(realigned_atlas, roi_1, invert=True), realigned_atlas)\n",
    "    fmri_masked_roi = np.ma.masked_where(np.ma.getmask(mask_roi_1), fmri_volume) \n",
    "    region_coords_1 = np.where(np.isin(realigned_atlas[:,:,slice_i], roi_1))\n",
    "\n",
    "    plt.figure(figsize=(20,10))\n",
    "    ax = plt.subplot(1, 2, 1)\n",
    "    ax.set_title(label + ' ROI', fontsize=20)\n",
    "    ax.imshow(anatomical[:,:,slice_i])\n",
    "    ax.scatter(x=region_coords_1[1], y=region_coords_1[0], c='red', s=1)\n",
    "\n",
    "    ax = plt.subplot(1, 2, 2)\n",
    "    ax.set_title(label +' FMRI Mask', fontsize=20)\n",
    "    ax.imshow(fmri_masked_roi[:, :, slice_i])\n",
    "\n",
    "    plt.savefig('../Results/Pig 2 Masking/'+label+'/slice_' + str(slice_i) + '.png')\n",
    "    plt.close('all')\n"
   ]
  }
 ],
 "metadata": {
  "kernelspec": {
   "display_name": "Python 3",
   "language": "python",
   "name": "python3"
  },
  "language_info": {
   "codemirror_mode": {
    "name": "ipython",
    "version": 3
   },
   "file_extension": ".py",
   "mimetype": "text/x-python",
   "name": "python",
   "nbconvert_exporter": "python",
   "pygments_lexer": "ipython3",
   "version": "3.6.2"
  }
 },
 "nbformat": 4,
 "nbformat_minor": 2
}
