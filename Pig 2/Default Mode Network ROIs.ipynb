{
 "cells": [
  {
   "cell_type": "code",
   "execution_count": null,
   "metadata": {
    "collapsed": true
   },
   "outputs": [],
   "source": [
    "ROI_1 = {}\n",
    "'Dorsal_posterior_cingular_cortex': 131,\n",
    "'Dorsal_posterior_cingular_cortex': 231,\n",
    "'Ventral_posterior_cingulate_cortex': 223,\n",
    "'Ventral_posterior_cingulate_cortex': 123\n",
    "}\n",
    "\n",
    "ROI_1_LABELS= [131,231,223,123]\n",
    "\n",
    "\n",
    "ROI_2 = {\n",
    "'Dorsolateral_prefrontal_cortex': 109,\n",
    "'Anterior_prefrontal_cortex': 110,\n",
    "'Dorsolateral_prefrontal_cortex': 209,\n",
    "'Anterior_prefrontal_cortex': 210\n",
    "}\n",
    "\n",
    "ROI_2_LABELS=[109,110,209,210]\n",
    "\n",
    "ROI_3 = {}\n",
    "'Auditory_cortex': 141,\n",
    "'Auditory_cortex': 241\n",
    "}\n",
    "\n",
    "ROI_3_LABELS=[141,241]\n",
    "\n",
    "ROI_4 = {\n",
    "'Inferior_temporal_gyrus': 120,\n",
    "'Middle_temporal_gyrus': 121,\n",
    "'Superior_temporal_gyrus': 122,\n",
    "'Inferior_temporal_gyrus': 220,\n",
    "'Middle_temporal_gyrus': 221,\n",
    "'Superior_temporal_gyrus': 222\n",
    "}\n",
    "\n",
    "ROI_4_LABELS=[120,121,122,220,221,222]\n",
    "\n",
    "\n"
   ]
  }
 ],
 "metadata": {
  "kernelspec": {
   "display_name": "Python 3",
   "language": "python",
   "name": "python3"
  },
  "language_info": {
   "codemirror_mode": {
    "name": "ipython",
    "version": 3
   },
   "file_extension": ".py",
   "mimetype": "text/x-python",
   "name": "python",
   "nbconvert_exporter": "python",
   "pygments_lexer": "ipython3",
   "version": "3.5.3"
  }
 },
 "nbformat": 4,
 "nbformat_minor": 2
}
