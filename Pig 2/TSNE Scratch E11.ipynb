{
 "cells": [
  {
   "cell_type": "code",
   "execution_count": 102,
   "metadata": {},
   "outputs": [
    {
     "data": {
      "application/vnd.jupyter.widget-view+json": {
       "model_id": "268c42dcd006452a9d341194bdf2223d"
      }
     },
     "metadata": {},
     "output_type": "display_data"
    },
    {
     "name": "stdout",
     "output_type": "stream",
     "text": [
      "\n"
     ]
    },
    {
     "data": {
      "application/vnd.jupyter.widget-view+json": {
       "model_id": "1afd689af0c94da1867857138ddb2fda"
      }
     },
     "metadata": {},
     "output_type": "display_data"
    },
    {
     "name": "stdout",
     "output_type": "stream",
     "text": [
      "\n"
     ]
    }
   ],
   "source": [
    "import dicom\n",
    "import matplotlib.pyplot as plt\n",
    "%matplotlib inline\n",
    "from pathlib import Path\n",
    "import tensorflow as tf\n",
    "import numpy as np\n",
    "from tqdm import tqdm_notebook\n",
    "import scipy.misc\n",
    "from skimage import io\n",
    "import scipy.stats\n",
    "import seaborn as sns\n",
    "import skimage.color\n",
    "from skimage.filters import threshold_otsu\n",
    "import keras\n",
    "\n",
    "from matplotlib import animation\n",
    "from IPython.display import HTML\n",
    "from PIL import Image\n",
    "import pandas as pd\n",
    "import nibabel as nib\n",
    "from nibabel.testing import data_path\n",
    "\n",
    "realigned_atlas = nib.load('../../Data/big_atlas/coregistered_pig_2_atlas.nii').get_data()\n",
    "original_atlas = nib.load('../../Data/big_atlas/atlas.nii').get_data()\n",
    "anatomical = nib.load('../../Data/pig_2/coregistered_anatomy.nii').get_data()\n",
    "mean_fmri = nib.load('../../Data/pig_2/rfmri nii/meanus822-0016-00001-000001-01.nii').get_data()  \n",
    "\n",
    "# let's try loading the entire thing to ram\n",
    "# the big tensor will have dimension [time, height, width, depth]\n",
    "\n",
    "im = mean_fmri\n",
    "all_data = np.zeros((300, im.shape[0], im.shape[1], im.shape[2]))\n",
    "masked_data = np.ma.zeros((300, im.shape[0], im.shape[1], im.shape[2]))\n",
    "\n",
    "dicom_files = [x for x in Path('../../Data/pig_2/rfmri files/').iterdir() if x.is_file() and not 'ds_store' in str(x).lower()]\n",
    "dicom_files.sort(key=str)\n",
    "time_index = 0\n",
    "\n",
    "brain_mask = np.ma.masked_where(np.isin(realigned_atlas, [0]), realigned_atlas)\n",
    "\n",
    "posterior_cingulate_cortex = [131,231,223,123]\n",
    "posterior_cingulate_cortex_indices = []\n",
    "posterior_cingulate_cortex_mask = np.ma.masked_where(np.isin(realigned_atlas, posterior_cingulate_cortex, invert=True), realigned_atlas)\n",
    "\n",
    "prefrontal_cortex = [109,110,209,210]\n",
    "prefrontal_cortex_indices = []\n",
    "prefrontal_cortex_mask = np.ma.masked_where(np.isin(realigned_atlas, prefrontal_cortex, invert=True), realigned_atlas)\n",
    "\n",
    "auditory_cortex = [141,241]\n",
    "auditory_cortex_indices = []\n",
    "auditory_cortex_mask = np.ma.masked_where(np.isin(realigned_atlas, auditory_cortex, invert=True), realigned_atlas)\n",
    "\n",
    "temporal_gyri = [120,121,122,220,221,222]\n",
    "temporal_gyri_indices = []\n",
    "temporal_gyri_mask = np.ma.masked_where(np.isin(realigned_atlas, temporal_gyri, invert=True), realigned_atlas)\n",
    "\n",
    "for f in tqdm_notebook(dicom_files):\n",
    "    time_file = nib.load(str(f)).get_data()\n",
    "    fmri_masked_roi = np.ma.masked_where(np.ma.getmask(brain_mask), time_file) \n",
    "    try:\n",
    "        masked_data[time_index, ...] = fmri_masked_roi\n",
    "        all_data[time_index, ...] = time_file\n",
    "        time_index += 1\n",
    "    except:\n",
    "        print(f)\n",
    "        \n",
    "assert all_data.shape == (300, 128, 128, 20)\n",
    "assert masked_data.shape == (300, 128, 128, 20)# basic sanity check\n",
    "\n",
    "indices = masked_data[1,:,:,:].nonzero()\n",
    "\n",
    "df_index = pd.MultiIndex.from_tuples(list(zip(*indices)), names=['row', 'col', 'depth'])\n",
    "series_df = pd.Series(index=df_index, dtype=object)\n",
    "\n",
    "for i, triple in tqdm_notebook(enumerate(zip(*indices)), total=len(indices[0])):\n",
    "    x, y, z = triple\n",
    "    trace = all_data[:, x, y, z]\n",
    "    series_df.loc[triple] = trace\n",
    "    if isinstance(posterior_cingulate_cortex_mask[x,y,z],np.uint8):\n",
    "        posterior_cingulate_cortex_indices.extend([i])\n",
    "    if isinstance(auditory_cortex_mask[x,y,z],np.uint8):\n",
    "        auditory_cortex_indices.extend([i])\n",
    "    if isinstance(prefrontal_cortex_mask[x,y,z],np.uint8):\n",
    "        prefrontal_cortex_indices.extend([i])\n",
    "    if isinstance(temporal_gyri_mask[x,y,z],np.uint8):\n",
    "        temporal_gyri_indices.extend([i])\n",
    "\n",
    "data_block = np.vstack(series_df.values)[..., np.newaxis]\n"
   ]
  },
  {
   "cell_type": "code",
   "execution_count": 103,
   "metadata": {},
   "outputs": [
    {
     "name": "stdout",
     "output_type": "stream",
     "text": [
      "279\n",
      "181\n",
      "278\n",
      "485\n"
     ]
    }
   ],
   "source": [
    "print(len(temporal_gyri_indices))\n",
    "print(len(posterior_cingulate_cortex_indices))\n",
    "print(len(auditory_cortex_indices))\n",
    "print(len(prefrontal_cortex_indices))"
   ]
  },
  {
   "cell_type": "code",
   "execution_count": 69,
   "metadata": {},
   "outputs": [
    {
     "name": "stdout",
     "output_type": "stream",
     "text": [
      "1000/1000 [==============================] - 6s     \n"
     ]
    },
    {
     "data": {
      "text/plain": [
       "23842.836765625001"
      ]
     },
     "execution_count": 69,
     "metadata": {},
     "output_type": "execute_result"
    }
   ],
   "source": [
    "from keras.models import load_model\n",
    "m = load_model('e11_model.h5')\n",
    "\n",
    "m.evaluate(data_block[:1000], data_block[:1000])"
   ]
  },
  {
   "cell_type": "code",
   "execution_count": 70,
   "metadata": {},
   "outputs": [
    {
     "data": {
      "text/plain": [
       "{'name': 'max_pooling1d_6',\n",
       " 'padding': 'valid',\n",
       " 'pool_size': (3,),\n",
       " 'strides': (3,),\n",
       " 'trainable': True}"
      ]
     },
     "execution_count": 70,
     "metadata": {},
     "output_type": "execute_result"
    }
   ],
   "source": [
    "layer_14 = m.layers[14]\n",
    "layer_14.get_config()"
   ]
  },
  {
   "cell_type": "code",
   "execution_count": 71,
   "metadata": {},
   "outputs": [
    {
     "name": "stdout",
     "output_type": "stream",
     "text": [
      "(7155, 25, 8)\n",
      "(7155, 200)\n"
     ]
    }
   ],
   "source": [
    "from sklearn import manifold\n",
    "from time import time\n",
    "\n",
    "embedding_model = keras.models.Model(inputs=m.input,\n",
    "                                 outputs=m.layers[14].output)\n",
    "embeddings = embedding_model.predict(data_block)\n",
    "squished_embeddings = np.reshape(embeddings, (embeddings.shape[0], -1))\n",
    "\n",
    "print(embeddings.shape)\n",
    "print(squished_embeddings.shape)"
   ]
  },
  {
   "cell_type": "code",
   "execution_count": null,
   "metadata": {
    "collapsed": true
   },
   "outputs": [],
   "source": [
    "from sklearn import manifold\n",
    "from time import time\n",
    "\n",
    "\n",
    "squished_embeddings = np.load('../../Data/numpy-data/e11-embeddings-squished.npy')\n",
    "tsne_100 = manifold.TSNE(n_components=2, init='random', random_state=0, n_iter=5000, perplexity=50)\n",
    "tsne_100_result = tsne_100.fit_transform(squished_embeddings)\n",
    "plt.scatter(tsne_100_result[:, 0], tsne_100_result[:, 1])\n",
    "np.save('../../Data/numpy-data/e11_tsne_100_pig_2_full_dataset.npy', tsne_100_result) \n"
   ]
  },
  {
   "cell_type": "code",
   "execution_count": 105,
   "metadata": {},
   "outputs": [],
   "source": [
    "from sklearn import manifold\n",
    "from time import time\n",
    "\n",
    "\n",
    "squished_embeddings = np.load('../../Data/numpy-data/e11-embeddings-squished.npy')\n",
    "tsne_100 = manifold.TSNE(n_components=2, init='random', random_state=0, n_iter=5000, perplexity=50)\n",
    "tsne_100_result = tsne_100.fit_transform(squished_embeddings)\n",
    "plt.scatter(tsne_100_result[:, 0], tsne_100_result[:, 1])\n",
    "np.save('../../Data/numpy-data/e11_tsne_100_pig_2_full_dataset.npy', tsne_100_result) \n"
   ]
  },
  {
   "cell_type": "code",
   "execution_count": 105,
   "metadata": {},
   "outputs": [
    {
     "data": {
      "image/png": "[encoded data removed]",
      "text/plain": [
       "<matplotlib.figure.Figure at 0x1818413c8>"
      ]
     },
     "metadata": {},
     "output_type": "display_data"
    }
   ],
   "source": [
    "#plt.scatter(tsne_100_result[:, 0], tsne_100_result[:, 1], s=2)\n",
    "\n",
    "for i in range(len(prefrontal_cortex_indices)):\n",
    "    plt.scatter(tsne_100_result[prefrontal_cortex_indices[i],0], tsne_100_result[prefrontal_cortex_indices[i],1], c='green', s=2)\n",
    "for i in range(len(posterior_cingulate_cortex_indices)):\n",
    "    plt.scatter(tsne_100_result[posterior_cingulate_cortex_indices[i],0], tsne_100_result[posterior_cingulate_cortex_indices[i],1], c='red', s=2)\n",
    "for i in range(len(auditory_cortex_indices)):\n",
    "    plt.scatter(tsne_100_result[auditory_cortex_indices[i],0], tsne_100_result[auditory_cortex_indices[i],1], c='blue', s=2)\n",
    "for i in range(len(temporal_gyri_indices)):\n",
    "    plt.scatter(tsne_100_result[temporal_gyri_indices[i],0], tsne_100_result[temporal_gyri_indices[i],1], c='black', s=2)\n",
    "\n",
    "\n",
    "plt.savefig('../../Results/tsne_e11/tsne_100_pig_2_full_dataset.png')\n",
    "\n",
    " "
   ]
  }
 ],
 "metadata": {
  "kernelspec": {
   "display_name": "Python 3",
   "language": "python",
   "name": "python3"
  },
  "language_info": {
   "codemirror_mode": {
    "name": "ipython",
    "version": 3
   },
   "file_extension": ".py",
   "mimetype": "text/x-python",
   "name": "python",
   "nbconvert_exporter": "python",
   "pygments_lexer": "ipython3",
   "version": "3.5.3"
  }
 },
 "nbformat": 4,
 "nbformat_minor": 2
}
