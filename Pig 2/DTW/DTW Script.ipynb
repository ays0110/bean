{
 "cells": [
  {
   "cell_type": "code",
   "execution_count": null,
   "metadata": {},
   "outputs": [
    {
     "name": "stderr",
     "output_type": "stream",
     "text": [
      "/home/chris/projects/rfmri/pig/envi/lib/python3.5/site-packages/sklearn/utils/validation.py:444: DataConversionWarning: Data with input dtype int16 was converted to float64 by StandardScaler.\n",
      "  warnings.warn(msg, DataConversionWarning)\n",
      "\r",
      "  0%|          | 0/12340 [00:00<?, ?it/s]"
     ]
    },
    {
     "name": "stdout",
     "output_type": "stream",
     "text": [
      "(12340, 12340)\n"
     ]
    },
    {
     "name": "stderr",
     "output_type": "stream",
     "text": [
      " 63%|██████▎   | 7811/12340 [6:58:13<3:38:38,  2.90s/it] "
     ]
    }
   ],
   "source": [
    "import numpy as np\n",
    "from scipy.spatial.distance import euclidean\n",
    "import _ucrdtw\n",
    "import matplotlib.pyplot as plt\n",
    "%matplotlib inline\n",
    "from tqdm import tqdm\n",
    "import seaborn as sns\n",
    "from sklearn.cluster import SpectralClustering\n",
    "import nibabel as nib\n",
    "from sklearn import preprocessing\n",
    "\n",
    "raw_data = np.load('./fmri_preprocessed_2017_09_18.npy')\n",
    "mask = np.load('/home/chris/projects/rfmri/Data/pig_2/brandon/mask_2017_09_18.npy')\n",
    "anatomical = nib.load('/home/chris/projects/rfmri/Data/pig_2/coregistered_anatomy.nii').get_data()\n",
    "x,y,z = mask.nonzero() #~16,000\n",
    "slice_mask = ((z >= 7) & (z <= 16))\n",
    "slice_7_17_data = raw_data[slice_mask] #~12,000\n",
    "\n",
    "# Call a new scaler to scale only slice 7-16\n",
    "slice_7_17_data = np.transpose(slice_7_17_data)\n",
    "scaler = preprocessing.StandardScaler().fit(slice_7_17_data.astype(float))\n",
    "scaled_7_17 = scaler.transform(slice_7_17_data)\n",
    "scaled_7_17 = np.transpose(scaled_7_17)\n",
    "scaled_7_17 = np.expand_dims(scaled_7_17, axis=2)\n",
    "\n",
    "distance_matrix = np.zeros((scaled_7_17.shape[0],scaled_7_17.shape[0]))\n",
    "print(distance_matrix.shape)\n",
    "\n",
    "#Calculate a dtw distance matrix in a really dumb and slow way\n",
    "for i in tqdm(range(scaled_7_17.shape[0])):\n",
    "    for j in range(scaled_7_17.shape[0]):\n",
    "        loc, dist = _ucrdtw.ucrdtw(scaled_7_17[i], scaled_7_17[j], 0.05, True)\n",
    "        distance_matrix[i,j] = dist\n",
    "        \n",
    "np.save('./dtw_matrix_7_17_different_scaling.npy', distance_matrix)"
   ]
  },
  {
   "cell_type": "code",
   "execution_count": 116,
   "metadata": {},
   "outputs": [
    {
     "name": "stdout",
     "output_type": "stream",
     "text": [
      "[[ 1.  0.  0.  0.]\n",
      " [ 0.  1.  0.  0.]\n",
      " [ 0.  0.  1.  0.]\n",
      " [ 0.  0.  0.  1.]\n",
      " [ 0.  0.  0.  0.]]\n"
     ]
    },
    {
     "data": {
      "text/plain": [
       "(12340, 12340)"
      ]
     },
     "execution_count": 116,
     "metadata": {},
     "output_type": "execute_result"
    }
   ],
   "source": [
    "# # This was nice though\n",
    "# blah = np.identity(5)\n",
    "# print(np.delete(blah, (4), axis=1))\n",
    "\n",
    "# x,y,z = mask.nonzero()\n",
    "# slice_mask = ((z >= 7) & (z <= 16))\n",
    "# meow = np.where(np.logical_not(slice_mask))\n",
    "# new_one = np.delete(np.delete(dtw_sim, meow[0], axis=0), meow[0], axis=1)\n",
    "# new_one.shape\n",
    "\n",
    "# clustering = SpectralClustering(n_clusters=3, n_jobs=4, affinity='precomputed').fit_predict(new_one)\n",
    "# np.save('dtw_7_17_3_clusters.npy', clustering)"
   ]
  },
  {
   "cell_type": "code",
   "execution_count": 4,
   "metadata": {},
   "outputs": [],
   "source": [
    "dtw2 = np.load('./dtw_matrix_7_17_different_scaling.npy')"
   ]
  },
  {
   "cell_type": "code",
   "execution_count": 6,
   "metadata": {},
   "outputs": [
    {
     "data": {
      "text/plain": [
       "(12340, 12340)"
      ]
     },
     "execution_count": 6,
     "metadata": {},
     "output_type": "execute_result"
    }
   ],
   "source": [
    "dtw2.shape\n"
   ]
  }
 ],
 "metadata": {
  "kernelspec": {
   "display_name": "Python 3",
   "language": "python",
   "name": "python3"
  },
  "language_info": {
   "codemirror_mode": {
    "name": "ipython",
    "version": 3
   },
   "file_extension": ".py",
   "mimetype": "text/x-python",
   "name": "python",
   "nbconvert_exporter": "python",
   "pygments_lexer": "ipython3",
   "version": "3.5.3"
  }
 },
 "nbformat": 4,
 "nbformat_minor": 2
}
