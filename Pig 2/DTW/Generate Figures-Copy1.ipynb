{
 "cells": [
  {
   "cell_type": "code",
   "execution_count": 2,
   "metadata": {},
   "outputs": [
    {
     "name": "stderr",
     "output_type": "stream",
     "text": [
      "Using Theano backend.\n"
     ]
    }
   ],
   "source": [
    "from keras.models import Sequential\n",
    "from keras.layers import Conv1D, MaxPooling1D, UpSampling1D, Dense, Dropout\n",
    "from keras.layers.normalization import BatchNormalization\n",
    "from keras import regularizers\n",
    "from keras.models import load_model\n",
    "import h5py\n",
    "from keras import optimizers\n",
    "import numpy as np\n",
    "import os\n",
    "import keras\n",
    "from keras.models import load_model\n",
    "from sklearn import preprocessing\n",
    "import nibabel as nib\n",
    "import matplotlib.pyplot as plt\n",
    "import seaborn as sns\n",
    "%matplotlib inline\n"
   ]
  },
  {
   "cell_type": "code",
   "execution_count": 22,
   "metadata": {},
   "outputs": [],
   "source": [
    "# Extract only slice 7-17 voxels from raw data (also get coordinates)\n",
    "mask = np.load('/home/chris/projects/rfmri/Data/pig_2/brandon/mask_2017_09_18.npy')\n",
    "anatomical = nib.load('/home/chris/projects/rfmri/Data/pig_2/coregistered_anatomy.nii').get_data()\n",
    "x,y,z = mask.nonzero()\n",
    "#slice_mask = ((z >= 7) & (z <= 16))\n",
    "slice_mask = (z >= 0)\n",
    "new_x = x[slice_mask]\n",
    "new_y = y[slice_mask]\n",
    "new_z = z[slice_mask] \n",
    "\n",
    "label_of_interest = 4\n",
    "clustering = np.load('./DTW Full Set Cluster/dtw_5_clusters.npy')\n",
    "labels = clustering\n",
    "unique_labels = np.unique(labels)\n",
    "slice_i = 0\n",
    "plt.figure(figsize=(40,20))\n",
    "num = np.unique(labels).shape[0]\n",
    "rgbs = [np.array(c) for c in sns.color_palette(\"bright\", len(unique_labels))]\n",
    "\n",
    "for slice_i in range(7,17):\n",
    "    plt.subplot(2,5,slice_i-6)\n",
    "    plt.imshow(anatomical[:,:,slice_i], cmap='viridis')\n",
    "    for i in range(new_x.shape[0]):\n",
    "        if new_z[i] == slice_i and labels[i] == label_of_interest:\n",
    "            pass\n",
    "            plt.scatter(x=new_y[i], y=new_x[i], c='r', s=3)\n",
    "\n",
    "plt.savefig('./DTW Full Set Cluster/' + str(len(unique_labels)) + '_clusters_cluster_' + str(label_of_interest)+ '.png')\n",
    "plt.close('all')\n"
   ]
  }
 ],
 "metadata": {
  "kernelspec": {
   "display_name": "Python 3",
   "language": "python",
   "name": "python3"
  },
  "language_info": {
   "codemirror_mode": {
    "name": "ipython",
    "version": 3
   },
   "file_extension": ".py",
   "mimetype": "text/x-python",
   "name": "python",
   "nbconvert_exporter": "python",
   "pygments_lexer": "ipython3",
   "version": "3.5.3"
  }
 },
 "nbformat": 4,
 "nbformat_minor": 2
}
