{
 "cells": [
  {
   "cell_type": "code",
   "execution_count": null,
   "metadata": {},
   "outputs": [],
   "source": [
    "import numpy as np\n",
    "from scipy.spatial.distance import euclidean\n",
    "import _ucrdtw\n",
    "import matplotlib.pyplot as plt\n",
    "%matplotlib inline\n",
    "from tqdm import tqdm\n",
    "import seaborn as sns\n",
    "from sklearn.cluster import SpectralClustering\n",
    "import nibabel as nib\n",
    "from sklearn import preprocessing\n",
    "\n",
    "parent_folder = 'DTW Full Set Cluster'\n",
    "distance_matrix_file = 'dtw_full_matrix.npy'\n",
    "gamma_folder = 'Gamma 1'\n",
    "gamma_value = 1.0\n",
    "\n",
    "distance_matrix = np.load('./' + distance_matrix_file)\n",
    "similarity_matrix = np.exp(- distance_matrix ** 2 / (2. * 10 ** 2))\n",
    "\n",
    "assert (similarity_matrix[1000][1000] == 1.0)\n",
    "assert (distance_matrix[1000][1000] == 0)\n",
    "\n",
    "print(np.max(similarity_matrix))\n",
    "print(np.min(similarity_matrix))\n",
    "print(np.mean(similarity_matrix))\n",
    "print(similarity_matrix.shape)\n",
    "\n",
    "for i in range(2,6):\n",
    "    clustering = SpectralClustering(n_clusters=i, n_jobs=4, gamma=gamma_value, affinity='precomputed').fit_predict(similarity_matrix)\n",
    "    np.save('./' + parent_folder + '/' + gamma_folder + '/dtw_' + str(i) + '_clusters.npy', clustering)"
   ]
  }
 ],
 "metadata": {
  "kernelspec": {
   "display_name": "Python 3",
   "language": "python",
   "name": "python3"
  },
  "language_info": {
   "codemirror_mode": {
    "name": "ipython",
    "version": 3
   },
   "file_extension": ".py",
   "mimetype": "text/x-python",
   "name": "python",
   "nbconvert_exporter": "python",
   "pygments_lexer": "ipython3",
   "version": "3.5.3"
  }
 },
 "nbformat": 4,
 "nbformat_minor": 2
}
