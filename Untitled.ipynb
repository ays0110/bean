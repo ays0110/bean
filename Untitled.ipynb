{
 "cells": [
  {
   "cell_type": "code",
   "execution_count": 6,
   "metadata": {},
   "outputs": [
    {
     "name": "stdout",
     "output_type": "stream",
     "text": [
      "(60000, 784)\n",
      "(10000, 784)\n",
      "Train on 60000 samples, validate on 10000 samples\n",
      "Epoch 1/50\n",
      "60000/60000 [==============================] - 7s - loss: 0.3791 - val_loss: 0.2732\n",
      "Epoch 2/50\n",
      "60000/60000 [==============================] - 6s - loss: 0.2663 - val_loss: 0.2561ss:  - ETA: 0s - loss: \n",
      "Epoch 3/50\n",
      "60000/60000 [==============================] - 6s - loss: 0.2466 - val_loss: 0.2347\n",
      "Epoch 4/50\n",
      "60000/60000 [==============================] - 6s - loss: 0.2265 - val_loss: 0.2160\n",
      "Epoch 5/50\n",
      "60000/60000 [==============================] - 7s - loss: 0.2104 - val_loss: 0.2025\n",
      "Epoch 6/50\n",
      "60000/60000 [==============================] - 5s - loss: 0.1991 - val_loss: 0.1930\n",
      "Epoch 7/50\n",
      "60000/60000 [==============================] - 5s - loss: 0.1907 - val_loss: 0.1856\n",
      "Epoch 8/50\n",
      "60000/60000 [==============================] - 5s - loss: 0.1839 - val_loss: 0.1794\n",
      "Epoch 9/50\n",
      "60000/60000 [==============================] - 7s - loss: 0.1779 - val_loss: 0.1738\n",
      "Epoch 10/50\n",
      "60000/60000 [==============================] - 6s - loss: 0.1726 - val_loss: 0.1688\n",
      "Epoch 11/50\n",
      "60000/60000 [==============================] - 9s - loss: 0.1679 - val_loss: 0.1644\n",
      "Epoch 12/50\n",
      "60000/60000 [==============================] - 7s - loss: 0.1636 - val_loss: 0.1602\n",
      "Epoch 13/50\n",
      "60000/60000 [==============================] - 6s - loss: 0.1596 - val_loss: 0.1563\n",
      "Epoch 14/50\n",
      "60000/60000 [==============================] - 5s - loss: 0.1558 - val_loss: 0.1529\n",
      "Epoch 15/50\n",
      "60000/60000 [==============================] - 5s - loss: 0.1523 - val_loss: 0.1494\n",
      "Epoch 16/50\n",
      "60000/60000 [==============================] - 5s - loss: 0.1492 - val_loss: 0.1462\n",
      "Epoch 17/50\n",
      "60000/60000 [==============================] - 5s - loss: 0.1462 - val_loss: 0.1433\n",
      "Epoch 18/50\n",
      "60000/60000 [==============================] - 5s - loss: 0.1435 - val_loss: 0.1408\n",
      "Epoch 19/50\n",
      "60000/60000 [==============================] - 6s - loss: 0.1410 - val_loss: 0.1384\n",
      "Epoch 20/50\n",
      "60000/60000 [==============================] - 7s - loss: 0.1387 - val_loss: 0.1361\n",
      "Epoch 21/50\n",
      "60000/60000 [==============================] - 7s - loss: 0.1366 - val_loss: 0.1341\n",
      "Epoch 22/50\n",
      "60000/60000 [==============================] - 5s - loss: 0.1346 - val_loss: 0.1322\n",
      "Epoch 23/50\n",
      "60000/60000 [==============================] - 4s - loss: 0.1327 - val_loss: 0.1302\n",
      "Epoch 24/50\n",
      "60000/60000 [==============================] - 4s - loss: 0.1309 - val_loss: 0.1285\n",
      "Epoch 25/50\n",
      "60000/60000 [==============================] - 4s - loss: 0.1291 - val_loss: 0.1268\n",
      "Epoch 26/50\n",
      "60000/60000 [==============================] - 5s - loss: 0.1274 - val_loss: 0.1252\n",
      "Epoch 27/50\n",
      "60000/60000 [==============================] - 4s - loss: 0.1258 - val_loss: 0.1234\n",
      "Epoch 28/50\n",
      "60000/60000 [==============================] - 4s - loss: 0.1242 - val_loss: 0.1220\n",
      "Epoch 29/50\n",
      "60000/60000 [==============================] - 5s - loss: 0.1227 - val_loss: 0.1204\n",
      "Epoch 30/50\n",
      "60000/60000 [==============================] - 6s - loss: 0.1213 - val_loss: 0.1190\n",
      "Epoch 31/50\n",
      "60000/60000 [==============================] - 6s - loss: 0.1199 - val_loss: 0.1176\n",
      "Epoch 32/50\n",
      "60000/60000 [==============================] - 6s - loss: 0.1185 - val_loss: 0.1164\n",
      "Epoch 33/50\n",
      "60000/60000 [==============================] - 5s - loss: 0.1173 - val_loss: 0.1151\n",
      "Epoch 34/50\n",
      "60000/60000 [==============================] - 6s - loss: 0.1161 - val_loss: 0.1139\n",
      "Epoch 35/50\n",
      "60000/60000 [==============================] - 5s - loss: 0.1149 - val_loss: 0.1129\n",
      "Epoch 36/50\n",
      "60000/60000 [==============================] - 5s - loss: 0.1139 - val_loss: 0.1118\n",
      "Epoch 37/50\n",
      "60000/60000 [==============================] - 4s - loss: 0.1129 - val_loss: 0.1108\n",
      "Epoch 38/50\n",
      "60000/60000 [==============================] - 4s - loss: 0.1119 - val_loss: 0.1099\n",
      "Epoch 39/50\n",
      "60000/60000 [==============================] - 4s - loss: 0.1110 - val_loss: 0.1090\n",
      "Epoch 40/50\n",
      "60000/60000 [==============================] - 5s - loss: 0.1102 - val_loss: 0.1082\n",
      "Epoch 41/50\n",
      "60000/60000 [==============================] - 4s - loss: 0.1094 - val_loss: 0.1075\n",
      "Epoch 42/50\n",
      "60000/60000 [==============================] - 4s - loss: 0.1087 - val_loss: 0.1068\n",
      "Epoch 43/50\n",
      "60000/60000 [==============================] - 4s - loss: 0.1081 - val_loss: 0.1062\n",
      "Epoch 44/50\n",
      "60000/60000 [==============================] - 4s - loss: 0.1074 - val_loss: 0.1055\n",
      "Epoch 45/50\n",
      "60000/60000 [==============================] - 4s - loss: 0.1068 - val_loss: 0.1050\n",
      "Epoch 46/50\n",
      "60000/60000 [==============================] - 4s - loss: 0.1063 - val_loss: 0.1044\n",
      "Epoch 47/50\n",
      "60000/60000 [==============================] - 4s - loss: 0.1058 - val_loss: 0.1039\n",
      "Epoch 48/50\n",
      "60000/60000 [==============================] - 5s - loss: 0.1053 - val_loss: 0.1035\n",
      "Epoch 49/50\n",
      "60000/60000 [==============================] - 5s - loss: 0.1049 - val_loss: 0.1030\n",
      "Epoch 50/50\n",
      "60000/60000 [==============================] - 5s - loss: 0.1044 - val_loss: 0.1026\n"
     ]
    },
    {
     "data": {
      "text/plain": [
       "<keras.callbacks.History at 0x11e15fef0>"
      ]
     },
     "execution_count": 6,
     "metadata": {},
     "output_type": "execute_result"
    }
   ],
   "source": [
    "from keras.layers import Input, Dense\n",
    "from keras.models import Model\n",
    "from keras.datasets import mnist\n",
    "import numpy as np\n",
    "\n",
    "encoding_size = 32\n",
    "input_size = 784\n",
    "\n",
    "input_image = Input(shape=(input_size,))\n",
    "encoded_input = Input(shape=(encoding_size,))\n",
    "\n",
    "# Performs the encoding from the input image of size 784 to the encoding of size 32\n",
    "encoded = Dense(encoding_size, activation='relu')(input_image)\n",
    "# Takes the encoded image and creates a layer to decode it back to size 784\n",
    "decoded = Dense(input_size, activation='sigmoid')(encoded)\n",
    "# Creates the mapping from the input_image => decoded (via the encoder and decoder layers)\n",
    "autoencoder = Model(input_image, decoded)\n",
    "\n",
    "# Allows us to access the mapping from input_image => encoded\n",
    "encoder = Model(input_image, encoded) \n",
    "# Looks at the just the decoded layer of the autoencoder model\n",
    "decoder_layer = autoencoder.layers[-1]\n",
    "\n",
    "# Creates the mapping from the encoded input => decoded (if you already have the encoding)\n",
    "decoder = Model(encoded_input, decoder_layer(encoded_input))\n",
    "# Shouldn't this be the same as this?\n",
    "# decoder = Model(encoded_input, decoded(encoded_input))\n",
    "\n",
    "autoencoder.compile(optimizer='adadelta', loss='binary_crossentropy')\n",
    "\n",
    "\n",
    "(x_train, trash), (x_test, also_trash) = mnist.load_data()\n",
    "\n",
    "# Normalize 255 integer space into into 0 to 1 floats\n",
    "x_train = x_train.astype('float32')/255.\n",
    "x_test = x_test.astype('float32')/255.\n",
    "\n",
    "# Reshape the size of tensor (num_samples, 28, 28) to matrix (num_samples, 28*28)\n",
    "x_train = x_train.reshape((len(x_train), np.prod(x_train.shape[1:])))\n",
    "x_test = x_test.reshape((len(x_test), np.prod(x_test.shape[1:])))\n",
    "\n",
    "print(x_train.shape)\n",
    "print(x_test.shape)\n",
    "\n",
    "autoencoder.fit(x_train, x_train,\n",
    "                epochs=50,\n",
    "                batch_size=256,\n",
    "                shuffle=True,\n",
    "                validation_data=(x_test, x_test))"
   ]
  },
  {
   "cell_type": "code",
   "execution_count": 9,
   "metadata": {},
   "outputs": [
    {
     "data": {
      "image/png": "[encoded data removed]",
      "text/plain": [
       "<matplotlib.figure.Figure at 0x10ea58198>"
      ]
     },
     "metadata": {},
     "output_type": "display_data"
    }
   ],
   "source": [
    "\n",
    "encoded_imgs = encoder.predict(x_test)\n",
    "decoded_imgs = decoder.predict(encoded_imgs)\n",
    "import matplotlib.pyplot as plt\n",
    "\n",
    "n=10\n",
    "\n",
    "plt.figure(figsize=(20,4))\n",
    "\n",
    "for i in range(n):\n",
    "    ax = plt.subplot(2, n, i+1)\n",
    "    plt.imshow(x_test[i].reshape(28,28))\n",
    "    plt.gray()\n",
    "    ax = plt.subplot(2, n, i+1+n)\n",
    "    plt.imshow(decoded_imgs[i].reshape(28,28))\n",
    "    plt.gray()\n",
    "plt.show()\n"
   ]
  },
  {
   "cell_type": "code",
   "execution_count": 26,
   "metadata": {},
   "outputs": [
    {
     "name": "stdout",
     "output_type": "stream",
     "text": [
      "Train on 60000 samples, validate on 10000 samples\n",
      "Epoch 1/10\n",
      "60000/60000 [==============================] - 102s - loss: 0.2350 - val_loss: 0.1847\n",
      "Epoch 2/10\n",
      "60000/60000 [==============================] - 100s - loss: 0.1697 - val_loss: 0.1638\n",
      "Epoch 3/10\n",
      "60000/60000 [==============================] - 101s - loss: 0.1539 - val_loss: 0.1520\n",
      "Epoch 4/10\n",
      "60000/60000 [==============================] - 102s - loss: 0.1446 - val_loss: 0.1411\n",
      "Epoch 5/10\n",
      "60000/60000 [==============================] - 101s - loss: 0.1383 - val_loss: 0.1363\n",
      "Epoch 6/10\n",
      "60000/60000 [==============================] - 103s - loss: 0.1342 - val_loss: 0.1305\n",
      "Epoch 7/10\n",
      "60000/60000 [==============================] - 104s - loss: 0.1308 - val_loss: 0.1273\n",
      "Epoch 8/10\n",
      "60000/60000 [==============================] - 106s - loss: 0.1279 - val_loss: 0.1268\n",
      "Epoch 9/10\n",
      "60000/60000 [==============================] - 123s - loss: 0.1256 - val_loss: 0.1225\n",
      "Epoch 10/10\n",
      "60000/60000 [==============================] - 112s - loss: 0.1236 - val_loss: 0.1212\n"
     ]
    },
    {
     "data": {
      "text/plain": [
       "<keras.callbacks.History at 0x122920b00>"
      ]
     },
     "execution_count": 26,
     "metadata": {},
     "output_type": "execute_result"
    }
   ],
   "source": [
    "from keras.layers import Input, Dense, Conv2D, MaxPooling2D, UpSampling2D\n",
    "from keras.callbacks import TensorBoard\n",
    "from keras import backend as K\n",
    "\n",
    "\n",
    "number_filters_per_layer = [16, 8, 8]\n",
    "size_filter_per_layer = (3,3)\n",
    "pooling_size = (2,2)\n",
    "\n",
    "input_image = Input(shape=(28, 28, 1))\n",
    "first_conv_layer = Conv2D(16, (3,3), activation='relu', padding='same')(input_image)\n",
    "first_pool_layer = MaxPooling2D((2,2), padding='same')(first_conv_layer)\n",
    "second_conv_layer = Conv2D(8, (3,3), activation='relu', padding='same')(first_pool_layer)\n",
    "second_pool_layer = MaxPooling2D((2,2), padding='same')(second_conv_layer)\n",
    "third_conv_layer = Conv2D(8, (3,3), activation='relu', padding='same')(second_pool_layer)\n",
    "third_pool_layer = MaxPooling2D((2,2), padding='same')(third_conv_layer)\n",
    "\n",
    "encoded_image = third_pool_layer\n",
    "\n",
    "first_deconv_layer = Conv2D(8, (3,3), activation='relu', padding='same')(encoded_image)\n",
    "first_upsample_layer = UpSampling2D((2,2))(first_deconv_layer)\n",
    "second_deconv_layer = Conv2D(8, (3,3), activation='relu', padding='same')(first_upsample_layer)\n",
    "second_upsample_layer = UpSampling2D((2,2))(second_deconv_layer)\n",
    "third_deconv_layer = Conv2D(16, (3,3), activation='relu')(second_upsample_layer)\n",
    "third_upsample_layer = UpSampling2D((2,2))(third_deconv_layer)\n",
    "\n",
    "fully_connected_layer = Conv2D(1, (3, 3), activation='sigmoid', padding='same')(third_upsample_layer)\n",
    "\n",
    "decoded_image = fully_connected_layer\n",
    "autoencoder = Model(input_image, decoded_image)\n",
    "autoencoder.compile(optimizer='adadelta', loss='binary_crossentropy')\n",
    "\n",
    "from keras.datasets import mnist\n",
    "\n",
    "(x_train, _), (x_test, _) = mnist.load_data()\n",
    "\n",
    "x_train = x_train.astype('float32') / 255.\n",
    "x_test = x_test.astype('float32') / 255.\n",
    "x_train = np.reshape(x_train, (len(x_train), 28, 28, 1))  # adapt this if using `channels_first` image data format\n",
    "x_test = np.reshape(x_test, (len(x_test), 28, 28, 1))\n",
    "\n",
    "autoencoder.fit(x_train, x_train,\n",
    "                epochs=10,\n",
    "                batch_size=128,\n",
    "                shuffle=True,\n",
    "                validation_data=(x_test, x_test),\n",
    "                callbacks=[TensorBoard(log_dir='/tmp/autoencoder')])\n"
   ]
  },
  {
   "cell_type": "code",
   "execution_count": 61,
   "metadata": {
    "scrolled": true
   },
   "outputs": [
    {
     "data": {
      "image/png": "[encoded data removed]",
      "text/plain": [
       "<matplotlib.figure.Figure at 0x11f4817b8>"
      ]
     },
     "metadata": {},
     "output_type": "display_data"
    },
    {
     "data": {
      "image/png": "[encoded data removed]",
      "text/plain": [
       "<matplotlib.figure.Figure at 0x120e40c50>"
      ]
     },
     "metadata": {},
     "output_type": "display_data"
    },
    {
     "name": "stdout",
     "output_type": "stream",
     "text": [
      "(3, 3, 1, 16)\n"
     ]
    },
    {
     "data": {
      "image/png": "[encoded data removed]",
      "text/plain": [
       "<matplotlib.figure.Figure at 0x133323748>"
      ]
     },
     "metadata": {},
     "output_type": "display_data"
    }
   ],
   "source": [
    "decoded_imgs = autoencoder.predict(x_test)\n",
    "\n",
    "# encoder = Model(input_image, encoded_image)\n",
    "# encoded_imgs = encoder.predict(x_test)\n",
    "\n",
    "# print(encoded_imgs[0].shape)\n",
    "\n",
    "n = 10\n",
    "plt.figure(figsize=(20, 4))\n",
    "for i in range(n):\n",
    "    # display original\n",
    "    ax = plt.subplot(2, n, i+1)\n",
    "    plt.imshow(x_test[i].reshape(28, 28))\n",
    "    plt.gray()\n",
    "    ax.get_xaxis().set_visible(False)\n",
    "    ax.get_yaxis().set_visible(False)\n",
    "\n",
    "    # display reconstruction\n",
    "    ax = plt.subplot(2, n, i + n +1)\n",
    "    plt.imshow(decoded_imgs[i].reshape(28, 28))\n",
    "    plt.gray()\n",
    "    ax.get_xaxis().set_visible(False)\n",
    "    ax.get_yaxis().set_visible(False)\n",
    "plt.show()\n",
    "\n",
    "first_layer_encoder = Model(input_image, second_conv_layer)\n",
    "encoded_imgs = first_layer_encoder.predict(x_test)\n",
    "first_image = encoded_imgs[0]\n",
    "\n",
    "(width, height, depth) = first_image.shape\n",
    "\n",
    "plt.figure(figsize=(depth, 4))\n",
    "for i in range(depth):\n",
    "    ax = plt.subplot(1, depth, i+1)\n",
    "    plt.imshow(first_image[:, :, i].reshape(width, height))\n",
    "    plt.gray()\n",
    "    ax.get_xaxis().set_visible(False)\n",
    "    ax.get_yaxis().set_visible(False)\n",
    "plt.show()\n",
    "\n",
    "\n",
    "W = first_layer_encoder.get_weights()[0]\n",
    "print(W.shape)\n",
    "W = np.squeeze(W)\n",
    "\n",
    "(width, height, depth) = W.shape\n",
    "\n",
    "plt.figure(figsize=(depth, 4))\n",
    "for i in range(depth):\n",
    "    ax = plt.subplot(1, depth, i+1)\n",
    "    plt.imshow(W[:, :, i].reshape(width, height))\n",
    "    plt.gray()\n",
    "    ax.get_xaxis().set_visible(False)\n",
    "    ax.get_yaxis().set_visible(False)\n",
    "plt.show()\n"
   ]
  }
 ],
 "metadata": {
  "kernelspec": {
   "display_name": "Python 3",
   "language": "python",
   "name": "python3"
  },
  "language_info": {
   "codemirror_mode": {
    "name": "ipython",
    "version": 3
   },
   "file_extension": ".py",
   "mimetype": "text/x-python",
   "name": "python",
   "nbconvert_exporter": "python",
   "pygments_lexer": "ipython3",
   "version": "3.6.1"
  }
 },
 "nbformat": 4,
 "nbformat_minor": 2
}
